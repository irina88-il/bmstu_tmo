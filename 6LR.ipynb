{
 "cells": [
  {
   "cell_type": "markdown",
   "id": "6a0881bd",
   "metadata": {},
   "source": [
    "## Загрузка датасета"
   ]
  },
  {
   "cell_type": "code",
   "execution_count": 7,
   "id": "bc7856d9",
   "metadata": {},
   "outputs": [],
   "source": [
    "import pandas as pd\n",
    "import seaborn as sns\n",
    "import matplotlib.pyplot as plt\n",
    "import numpy as np\n",
    "from sklearn.preprocessing import PolynomialFeatures, MinMaxScaler, StandardScaler\n",
    "from sklearn.linear_model import LinearRegression\n",
    "from sklearn.metrics import r2_score, mean_squared_error, mean_absolute_error\n",
    "from sklearn.model_selection import train_test_split, GridSearchCV\n",
    "from sklearn.ensemble import RandomForestRegressor, GradientBoostingRegressor\n",
    "from heamy.estimator import Regressor\n",
    "from heamy.pipeline import ModelsPipeline\n",
    "from heamy.dataset import Dataset\n",
    "from sklearn.neural_network import MLPRegressor\n",
    "from gmdhpy import gmdh\n",
    "from warnings import simplefilter\n",
    "\n",
    "simplefilter('ignore')"
   ]
  },
  {
   "cell_type": "code",
   "execution_count": 6,
   "id": "306c64cb",
   "metadata": {
    "scrolled": false
   },
   "outputs": [
    {
     "data": {
      "text/html": [
       "<div>\n",
       "<style scoped>\n",
       "    .dataframe tbody tr th:only-of-type {\n",
       "        vertical-align: middle;\n",
       "    }\n",
       "\n",
       "    .dataframe tbody tr th {\n",
       "        vertical-align: top;\n",
       "    }\n",
       "\n",
       "    .dataframe thead th {\n",
       "        text-align: right;\n",
       "    }\n",
       "</style>\n",
       "<table border=\"1\" class=\"dataframe\">\n",
       "  <thead>\n",
       "    <tr style=\"text-align: right;\">\n",
       "      <th></th>\n",
       "      <th>Unnamed: 0</th>\n",
       "      <th>Year</th>\n",
       "      <th>Kilometers_Driven</th>\n",
       "      <th>Mileage</th>\n",
       "      <th>Engine</th>\n",
       "      <th>Power</th>\n",
       "      <th>Seats</th>\n",
       "      <th>Price</th>\n",
       "      <th>Location_Ahmedabad</th>\n",
       "      <th>Location_Bangalore</th>\n",
       "      <th>...</th>\n",
       "      <th>Fuel_Type_CNG</th>\n",
       "      <th>Fuel_Type_Diesel</th>\n",
       "      <th>Fuel_Type_LPG</th>\n",
       "      <th>Fuel_Type_Petrol</th>\n",
       "      <th>Transmission_Automatic</th>\n",
       "      <th>Transmission_Manual</th>\n",
       "      <th>Owner_Type_First</th>\n",
       "      <th>Owner_Type_Fourth &amp; Above</th>\n",
       "      <th>Owner_Type_Second</th>\n",
       "      <th>Owner_Type_Third</th>\n",
       "    </tr>\n",
       "  </thead>\n",
       "  <tbody>\n",
       "    <tr>\n",
       "      <th>0</th>\n",
       "      <td>0</td>\n",
       "      <td>2010</td>\n",
       "      <td>72000</td>\n",
       "      <td>26.60</td>\n",
       "      <td>998</td>\n",
       "      <td>58.16</td>\n",
       "      <td>5.0</td>\n",
       "      <td>1.75</td>\n",
       "      <td>0</td>\n",
       "      <td>0</td>\n",
       "      <td>...</td>\n",
       "      <td>1</td>\n",
       "      <td>0</td>\n",
       "      <td>0</td>\n",
       "      <td>0</td>\n",
       "      <td>0</td>\n",
       "      <td>1</td>\n",
       "      <td>1</td>\n",
       "      <td>0</td>\n",
       "      <td>0</td>\n",
       "      <td>0</td>\n",
       "    </tr>\n",
       "    <tr>\n",
       "      <th>1</th>\n",
       "      <td>1</td>\n",
       "      <td>2015</td>\n",
       "      <td>41000</td>\n",
       "      <td>19.67</td>\n",
       "      <td>1582</td>\n",
       "      <td>126.20</td>\n",
       "      <td>5.0</td>\n",
       "      <td>12.50</td>\n",
       "      <td>0</td>\n",
       "      <td>0</td>\n",
       "      <td>...</td>\n",
       "      <td>0</td>\n",
       "      <td>1</td>\n",
       "      <td>0</td>\n",
       "      <td>0</td>\n",
       "      <td>0</td>\n",
       "      <td>1</td>\n",
       "      <td>1</td>\n",
       "      <td>0</td>\n",
       "      <td>0</td>\n",
       "      <td>0</td>\n",
       "    </tr>\n",
       "    <tr>\n",
       "      <th>2</th>\n",
       "      <td>2</td>\n",
       "      <td>2011</td>\n",
       "      <td>46000</td>\n",
       "      <td>18.20</td>\n",
       "      <td>1199</td>\n",
       "      <td>88.70</td>\n",
       "      <td>5.0</td>\n",
       "      <td>4.50</td>\n",
       "      <td>0</td>\n",
       "      <td>0</td>\n",
       "      <td>...</td>\n",
       "      <td>0</td>\n",
       "      <td>0</td>\n",
       "      <td>0</td>\n",
       "      <td>1</td>\n",
       "      <td>0</td>\n",
       "      <td>1</td>\n",
       "      <td>1</td>\n",
       "      <td>0</td>\n",
       "      <td>0</td>\n",
       "      <td>0</td>\n",
       "    </tr>\n",
       "    <tr>\n",
       "      <th>3</th>\n",
       "      <td>3</td>\n",
       "      <td>2012</td>\n",
       "      <td>87000</td>\n",
       "      <td>20.77</td>\n",
       "      <td>1248</td>\n",
       "      <td>88.76</td>\n",
       "      <td>7.0</td>\n",
       "      <td>6.00</td>\n",
       "      <td>0</td>\n",
       "      <td>0</td>\n",
       "      <td>...</td>\n",
       "      <td>0</td>\n",
       "      <td>1</td>\n",
       "      <td>0</td>\n",
       "      <td>0</td>\n",
       "      <td>0</td>\n",
       "      <td>1</td>\n",
       "      <td>1</td>\n",
       "      <td>0</td>\n",
       "      <td>0</td>\n",
       "      <td>0</td>\n",
       "    </tr>\n",
       "    <tr>\n",
       "      <th>4</th>\n",
       "      <td>4</td>\n",
       "      <td>2013</td>\n",
       "      <td>40670</td>\n",
       "      <td>15.20</td>\n",
       "      <td>1968</td>\n",
       "      <td>140.80</td>\n",
       "      <td>5.0</td>\n",
       "      <td>17.74</td>\n",
       "      <td>0</td>\n",
       "      <td>0</td>\n",
       "      <td>...</td>\n",
       "      <td>0</td>\n",
       "      <td>1</td>\n",
       "      <td>0</td>\n",
       "      <td>0</td>\n",
       "      <td>1</td>\n",
       "      <td>0</td>\n",
       "      <td>0</td>\n",
       "      <td>0</td>\n",
       "      <td>1</td>\n",
       "      <td>0</td>\n",
       "    </tr>\n",
       "  </tbody>\n",
       "</table>\n",
       "<p>5 rows × 29 columns</p>\n",
       "</div>"
      ],
      "text/plain": [
       "   Unnamed: 0  Year  Kilometers_Driven  Mileage  Engine   Power  Seats  Price  \\\n",
       "0           0  2010              72000    26.60     998   58.16    5.0   1.75   \n",
       "1           1  2015              41000    19.67    1582  126.20    5.0  12.50   \n",
       "2           2  2011              46000    18.20    1199   88.70    5.0   4.50   \n",
       "3           3  2012              87000    20.77    1248   88.76    7.0   6.00   \n",
       "4           4  2013              40670    15.20    1968  140.80    5.0  17.74   \n",
       "\n",
       "   Location_Ahmedabad  Location_Bangalore  ...  Fuel_Type_CNG  \\\n",
       "0                   0                   0  ...              1   \n",
       "1                   0                   0  ...              0   \n",
       "2                   0                   0  ...              0   \n",
       "3                   0                   0  ...              0   \n",
       "4                   0                   0  ...              0   \n",
       "\n",
       "   Fuel_Type_Diesel  Fuel_Type_LPG  Fuel_Type_Petrol  Transmission_Automatic  \\\n",
       "0                 0              0                 0                       0   \n",
       "1                 1              0                 0                       0   \n",
       "2                 0              0                 1                       0   \n",
       "3                 1              0                 0                       0   \n",
       "4                 1              0                 0                       1   \n",
       "\n",
       "   Transmission_Manual  Owner_Type_First  Owner_Type_Fourth & Above  \\\n",
       "0                    1                 1                          0   \n",
       "1                    1                 1                          0   \n",
       "2                    1                 1                          0   \n",
       "3                    1                 1                          0   \n",
       "4                    0                 0                          0   \n",
       "\n",
       "   Owner_Type_Second  Owner_Type_Third  \n",
       "0                  0                 0  \n",
       "1                  0                 0  \n",
       "2                  0                 0  \n",
       "3                  0                 0  \n",
       "4                  1                 0  \n",
       "\n",
       "[5 rows x 29 columns]"
      ]
     },
     "execution_count": 6,
     "metadata": {},
     "output_type": "execute_result"
    }
   ],
   "source": [
    "data = pd.read_csv('cars_price_2_processed.csv')\n",
    "data.head()"
   ]
  },
  {
   "cell_type": "code",
   "execution_count": 7,
   "id": "76ea5f2e",
   "metadata": {},
   "outputs": [
    {
     "name": "stdout",
     "output_type": "stream",
     "text": [
      "Признаки, имеющие максимальную по модулю корреляцию с ценой автомобиля\n"
     ]
    },
    {
     "data": {
      "text/plain": [
       "Power                     0.772843\n",
       "Engine                    0.658047\n",
       "Transmission_Automatic    0.585623\n",
       "Transmission_Manual       0.585623\n",
       "Mileage                   0.341652\n",
       "Fuel_Type_Diesel          0.321035\n",
       "Fuel_Type_Petrol          0.309363\n",
       "Name: Price, dtype: float64"
      ]
     },
     "execution_count": 7,
     "metadata": {},
     "output_type": "execute_result"
    }
   ],
   "source": [
    "print('Признаки, имеющие максимальную по модулю корреляцию с ценой автомобиля')\n",
    "best_params = data.corr()['Price'].map(abs).sort_values(ascending=False)[1:]\n",
    "best_params = best_params[best_params.values > 0.3]\n",
    "best_params"
   ]
  },
  {
   "cell_type": "markdown",
   "id": "23d8bcca",
   "metadata": {},
   "source": [
    " Разделение выборки на обучающую и тестовую"
   ]
  },
  {
   "cell_type": "code",
   "execution_count": 12,
   "id": "a3c68b6e",
   "metadata": {},
   "outputs": [],
   "source": [
    "y = data['Price']\n",
    "X = data[best_params.index]\n",
    "x_train, x_test, y_train, y_test = train_test_split(X, y, test_size=0.3, random_state=3)"
   ]
  },
  {
   "cell_type": "markdown",
   "id": "2a7f7809",
   "metadata": {},
   "source": [
    " Стекинг"
   ]
  },
  {
   "cell_type": "code",
   "execution_count": 21,
   "id": "f74e3223",
   "metadata": {},
   "outputs": [],
   "source": [
    "dataset = Dataset(x_train, y_train, x_test)"
   ]
  },
  {
   "cell_type": "code",
   "execution_count": 22,
   "id": "efb25673",
   "metadata": {},
   "outputs": [],
   "source": [
    "# Создаем экземпляры трех различных моделей\n",
    "model_lr = Regressor(dataset=dataset, estimator=LinearRegression, name='lr')\n",
    "model_rf = Regressor(dataset=dataset, estimator=RandomForestRegressor, \n",
    "                     parameters={'criterion': 'absolute_error', 'n_estimators': 1000, 'random_state': 17}, name='rf')\n",
    "model_gb = Regressor(dataset=dataset, estimator=GradientBoostingRegressor, \n",
    "                     parameters={'loss': 'huber', 'random_state': 17}, name='rf')"
   ]
  },
  {
   "cell_type": "code",
   "execution_count": 23,
   "id": "208782f6",
   "metadata": {},
   "outputs": [
    {
     "name": "stdout",
     "output_type": "stream",
     "text": [
      "Metric: mean_absolute_error\n",
      "Folds accuracy: [2.118518079925378, 2.366942214889117, 2.654642030745365, 2.4726790895523836, 2.343767119086641, 2.341834955257515, 2.82948363821963, 2.09283849153532, 2.8587044048057866, 2.3338125113348562]\n",
      "Mean accuracy: 2.441322253535199\n",
      "Standard Deviation: 0.2516971648119532\n",
      "Variance: 0.06335146277437553\n"
     ]
    }
   ],
   "source": [
    "pipeline = ModelsPipeline(model_lr, model_rf)\n",
    "stack_ds = pipeline.stack(k=10, seed=1)\n",
    "stacker = Regressor(dataset=stack_ds, estimator=GradientBoostingRegressor)\n",
    "results = stacker.validate(k=10, scorer=mean_absolute_error)"
   ]
  },
  {
   "cell_type": "code",
   "execution_count": 24,
   "id": "532e37c2",
   "metadata": {},
   "outputs": [
    {
     "name": "stdout",
     "output_type": "stream",
     "text": [
      "R^2: 0.7840610516996481\n",
      "MSE: 25.21054291365927\n",
      "MAE: 2.3494797099849425\n"
     ]
    }
   ],
   "source": [
    "y_pred_stack = stacker.predict()\n",
    "print_metrics(y_test, y_pred_stack)"
   ]
  },
  {
   "cell_type": "markdown",
   "id": "48d5af0a",
   "metadata": {},
   "source": [
    " Многослойный персептрон"
   ]
  },
  {
   "cell_type": "code",
   "execution_count": 25,
   "id": "133c1ee3",
   "metadata": {},
   "outputs": [
    {
     "name": "stdout",
     "output_type": "stream",
     "text": [
      "R^2: 0.6461253526988189\n",
      "MSE: 41.31432542421033\n",
      "MAE: 3.6332677362127788\n"
     ]
    }
   ],
   "source": [
    "print_metrics(y_test, MLPRegressor(random_state=17).fit(x_train, y_train).predict(x_test))"
   ]
  },
  {
   "cell_type": "markdown",
   "id": "b8b9c0c4",
   "metadata": {},
   "source": [
    "Подбор гиперпараметров"
   ]
  },
  {
   "cell_type": "code",
   "execution_count": 26,
   "id": "cb09792f",
   "metadata": {},
   "outputs": [
    {
     "name": "stdout",
     "output_type": "stream",
     "text": [
      "{'alpha': 0.0001, 'hidden_layer_sizes': (100, 40), 'max_iter': 1000, 'solver': 'lbfgs'}\n"
     ]
    }
   ],
   "source": [
    "mlp = MLPRegressor(random_state=17)\n",
    "params = {'solver': ['lbfgs', 'sgd', 'adam'], 'hidden_layer_sizes': [(100,), (50, 30,), (100, 40,)], \n",
    "          'alpha': [1e-4, 3e-4, 5e-4], 'max_iter': [500, 1000]}\n",
    "grid_cv = GridSearchCV(estimator=mlp, cv=5, param_grid=params, n_jobs=-1, scoring='r2')\n",
    "grid_cv.fit(x_train, y_train)\n",
    "print(grid_cv.best_params_)"
   ]
  },
  {
   "cell_type": "code",
   "execution_count": 27,
   "id": "51118d52",
   "metadata": {},
   "outputs": [
    {
     "name": "stdout",
     "output_type": "stream",
     "text": [
      "R^2: 0.6795190063389385\n",
      "MSE: 37.415667286044616\n",
      "MAE: 3.4568890196314794\n"
     ]
    }
   ],
   "source": [
    "best_mlp = grid_cv.best_estimator_\n",
    "best_mlp.fit(x_train, y_train)\n",
    "y_pred_mlp = best_mlp.predict(x_test)\n",
    "print_metrics(y_test, y_pred_mlp)"
   ]
  },
  {
   "cell_type": "markdown",
   "id": "21139733",
   "metadata": {},
   "source": [
    " Метод группового учёта аргументов"
   ]
  },
  {
   "cell_type": "code",
   "execution_count": 28,
   "id": "01495624",
   "metadata": {},
   "outputs": [
    {
     "name": "stdout",
     "output_type": "stream",
     "text": [
      "train layer0 in 0.02 sec\n",
      "train layer1 in 0.05 sec\n",
      "train layer2 in 0.05 sec\n",
      "train layer3 in 0.05 sec\n",
      "\n",
      "R^2: 0.6866573748606544\n",
      "MSE: 36.58227364693177\n",
      "MAE: 3.3962429053289607\n"
     ]
    }
   ],
   "source": [
    "gm = gmdh.Regressor(n_jobs=-1)\n",
    "gm.fit(np.array(x_train_scaled), np.array(y_train))\n",
    "y_pred_gm = gm.predict(np.array(x_test_scaled))\n",
    "print()\n",
    "print_metrics(y_test, y_pred_gm)"
   ]
  },
  {
   "cell_type": "markdown",
   "id": "6df6deee",
   "metadata": {},
   "source": [
    " Сравнение моделей"
   ]
  },
  {
   "cell_type": "code",
   "execution_count": 29,
   "id": "eec83a36",
   "metadata": {},
   "outputs": [
    {
     "name": "stdout",
     "output_type": "stream",
     "text": [
      "Случайный лес\n",
      "R^2: 0.8208117147424516\n",
      "MSE: 20.919959047068673\n",
      "MAE: 2.1854572077185015\n",
      "\n",
      "Градиентный бустинг\n",
      "R^2: 0.7750617066966918\n",
      "MSE: 26.26120271902374\n",
      "MAE: 2.66518306958836\n",
      "\n",
      "Стекинг\n",
      "R^2: 0.7840610516996481\n",
      "MSE: 25.21054291365927\n",
      "MAE: 2.3494797099849425\n",
      "\n",
      "Многослойный персептрон\n",
      "R^2: 0.6795190063389385\n",
      "MSE: 37.415667286044616\n",
      "MAE: 3.4568890196314794\n",
      "\n",
      "Метод группового учёта аргументов\n",
      "R^2: 0.6866573748606544\n",
      "MSE: 36.58227364693177\n",
      "MAE: 3.3962429053289607\n"
     ]
    }
   ],
   "source": [
    "\n",
    "\n",
    "print(\"\\nСтекинг\")\n",
    "print_metrics(y_test, y_pred_stack)\n",
    "\n",
    "print(\"\\nМногослойный персептрон\")\n",
    "print_metrics(y_test, y_pred_mlp)\n",
    "\n",
    "print(\"\\nМетод группового учёта аргументов\")\n",
    "print_metrics(y_test, y_pred_gm)"
   ]
  }
 ],
 "metadata": {
  "kernelspec": {
   "display_name": "Python 3 (ipykernel)",
   "language": "python",
   "name": "python3"
  },
  "language_info": {
   "codemirror_mode": {
    "name": "ipython",
    "version": 3
   },
   "file_extension": ".py",
   "mimetype": "text/x-python",
   "name": "python",
   "nbconvert_exporter": "python",
   "pygments_lexer": "ipython3",
   "version": "3.11.8"
  }
 },
 "nbformat": 4,
 "nbformat_minor": 5
}
