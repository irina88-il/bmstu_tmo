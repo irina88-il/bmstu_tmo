{
 "cells": [
  {
   "cell_type": "code",
   "execution_count": 9,
   "metadata": {},
   "outputs": [],
   "source": [
    "import pandas as pd\n",
    "import numpy as np\n",
    "from sklearn.model_selection import train_test_split\n",
    "from sklearn.preprocessing import OneHotEncoder, LabelEncoder\n",
    "from sklearn.impute import SimpleImputer\n",
    "from sklearn.neighbors import KNeighborsClassifier\n",
    "from sklearn.ensemble import BaggingClassifier, RandomForestClassifier, AdaBoostClassifier, GradientBoostingClassifier\n",
    "from sklearn.metrics import accuracy_score, confusion_matrix, classification_report\n",
    "from sklearn.metrics import r2_score, mean_squared_error, mean_absolute_error\n"
   ]
  },
  {
   "cell_type": "code",
   "execution_count": 3,
   "metadata": {},
   "outputs": [
    {
     "data": {
      "text/html": [
       "<div>\n",
       "<style scoped>\n",
       "    .dataframe tbody tr th:only-of-type {\n",
       "        vertical-align: middle;\n",
       "    }\n",
       "\n",
       "    .dataframe tbody tr th {\n",
       "        vertical-align: top;\n",
       "    }\n",
       "\n",
       "    .dataframe thead th {\n",
       "        text-align: right;\n",
       "    }\n",
       "</style>\n",
       "<table border=\"1\" class=\"dataframe\">\n",
       "  <thead>\n",
       "    <tr style=\"text-align: right;\">\n",
       "      <th></th>\n",
       "      <th>Number</th>\n",
       "      <th>City</th>\n",
       "      <th>Gender</th>\n",
       "      <th>Age</th>\n",
       "      <th>Income</th>\n",
       "      <th>Illness</th>\n",
       "    </tr>\n",
       "  </thead>\n",
       "  <tbody>\n",
       "    <tr>\n",
       "      <th>0</th>\n",
       "      <td>1</td>\n",
       "      <td>Dallas</td>\n",
       "      <td>Male</td>\n",
       "      <td>NaN</td>\n",
       "      <td>40367.0</td>\n",
       "      <td>No</td>\n",
       "    </tr>\n",
       "    <tr>\n",
       "      <th>1</th>\n",
       "      <td>2</td>\n",
       "      <td>Dallas</td>\n",
       "      <td>Male</td>\n",
       "      <td>54.0</td>\n",
       "      <td>45084.0</td>\n",
       "      <td>No</td>\n",
       "    </tr>\n",
       "    <tr>\n",
       "      <th>2</th>\n",
       "      <td>3</td>\n",
       "      <td>Dallas</td>\n",
       "      <td>Male</td>\n",
       "      <td>NaN</td>\n",
       "      <td>52483.0</td>\n",
       "      <td>No</td>\n",
       "    </tr>\n",
       "    <tr>\n",
       "      <th>3</th>\n",
       "      <td>4</td>\n",
       "      <td>Dallas</td>\n",
       "      <td>Male</td>\n",
       "      <td>40.0</td>\n",
       "      <td>40941.0</td>\n",
       "      <td>No</td>\n",
       "    </tr>\n",
       "    <tr>\n",
       "      <th>4</th>\n",
       "      <td>5</td>\n",
       "      <td>Dallas</td>\n",
       "      <td>Male</td>\n",
       "      <td>NaN</td>\n",
       "      <td>50289.0</td>\n",
       "      <td>No</td>\n",
       "    </tr>\n",
       "  </tbody>\n",
       "</table>\n",
       "</div>"
      ],
      "text/plain": [
       "   Number    City Gender   Age   Income Illness\n",
       "0       1  Dallas   Male   NaN  40367.0      No\n",
       "1       2  Dallas   Male  54.0  45084.0      No\n",
       "2       3  Dallas   Male   NaN  52483.0      No\n",
       "3       4  Dallas   Male  40.0  40941.0      No\n",
       "4       5  Dallas   Male   NaN  50289.0      No"
      ]
     },
     "execution_count": 3,
     "metadata": {},
     "output_type": "execute_result"
    }
   ],
   "source": [
    "toy_data = pd.read_csv('toy_dataset.csv')\n",
    "toy_data.head()"
   ]
  },
  {
   "cell_type": "code",
   "execution_count": 4,
   "metadata": {},
   "outputs": [
    {
     "data": {
      "text/plain": [
       "Number       int64\n",
       "City        object\n",
       "Gender      object\n",
       "Age        float64\n",
       "Income     float64\n",
       "Illness     object\n",
       "dtype: object"
      ]
     },
     "execution_count": 4,
     "metadata": {},
     "output_type": "execute_result"
    }
   ],
   "source": [
    "toy_data.dtypes"
   ]
  },
  {
   "cell_type": "code",
   "execution_count": 5,
   "metadata": {},
   "outputs": [
    {
     "data": {
      "text/plain": [
       "Number     0\n",
       "City       0\n",
       "Gender     0\n",
       "Age        3\n",
       "Income     0\n",
       "Illness    0\n",
       "dtype: int64"
      ]
     },
     "execution_count": 5,
     "metadata": {},
     "output_type": "execute_result"
    }
   ],
   "source": [
    "# проверим есть ли пропущенные значения\n",
    "toy_data.isnull().sum()"
   ]
  },
  {
   "cell_type": "code",
   "execution_count": 6,
   "metadata": {},
   "outputs": [],
   "source": [
    "# Применение Label Encoding к колонке 'Gender'\n",
    "label_encoder = LabelEncoder()\n",
    "toy_data['Gender'] = label_encoder.fit_transform(toy_data['Gender'])\n",
    "toy_data['City'] = label_encoder.fit_transform(toy_data['City'])\n",
    "toy_data['Illness'] = label_encoder.fit_transform(toy_data['Illness'])"
   ]
  },
  {
   "cell_type": "code",
   "execution_count": 7,
   "metadata": {},
   "outputs": [
    {
     "data": {
      "text/plain": [
       "(3, 1)"
      ]
     },
     "execution_count": 7,
     "metadata": {},
     "output_type": "execute_result"
    }
   ],
   "source": [
    "cat_temp_data = toy_data[['Age']]\n",
    "cat_temp_data.head()\n",
    "cat_temp_data['Age'].unique()\n",
    "cat_temp_data[cat_temp_data['Age'].isnull()].shape"
   ]
  },
  {
   "cell_type": "code",
   "execution_count": 10,
   "metadata": {},
   "outputs": [],
   "source": [
    "imp2 = SimpleImputer(missing_values=np.nan, strategy='most_frequent')\n",
    "data_imp2 = imp2.fit_transform(cat_temp_data)\n",
    "data_imp2\n",
    "toy_data['Age'] = data_imp2"
   ]
  },
  {
   "cell_type": "code",
   "execution_count": 11,
   "metadata": {},
   "outputs": [
    {
     "data": {
      "text/html": [
       "<div>\n",
       "<style scoped>\n",
       "    .dataframe tbody tr th:only-of-type {\n",
       "        vertical-align: middle;\n",
       "    }\n",
       "\n",
       "    .dataframe tbody tr th {\n",
       "        vertical-align: top;\n",
       "    }\n",
       "\n",
       "    .dataframe thead th {\n",
       "        text-align: right;\n",
       "    }\n",
       "</style>\n",
       "<table border=\"1\" class=\"dataframe\">\n",
       "  <thead>\n",
       "    <tr style=\"text-align: right;\">\n",
       "      <th></th>\n",
       "      <th>Number</th>\n",
       "      <th>City</th>\n",
       "      <th>Gender</th>\n",
       "      <th>Age</th>\n",
       "      <th>Income</th>\n",
       "      <th>Illness</th>\n",
       "    </tr>\n",
       "  </thead>\n",
       "  <tbody>\n",
       "    <tr>\n",
       "      <th>0</th>\n",
       "      <td>1</td>\n",
       "      <td>2</td>\n",
       "      <td>1</td>\n",
       "      <td>26.0</td>\n",
       "      <td>40367.0</td>\n",
       "      <td>0</td>\n",
       "    </tr>\n",
       "    <tr>\n",
       "      <th>1</th>\n",
       "      <td>2</td>\n",
       "      <td>2</td>\n",
       "      <td>1</td>\n",
       "      <td>54.0</td>\n",
       "      <td>45084.0</td>\n",
       "      <td>0</td>\n",
       "    </tr>\n",
       "    <tr>\n",
       "      <th>2</th>\n",
       "      <td>3</td>\n",
       "      <td>2</td>\n",
       "      <td>1</td>\n",
       "      <td>26.0</td>\n",
       "      <td>52483.0</td>\n",
       "      <td>0</td>\n",
       "    </tr>\n",
       "    <tr>\n",
       "      <th>3</th>\n",
       "      <td>4</td>\n",
       "      <td>2</td>\n",
       "      <td>1</td>\n",
       "      <td>40.0</td>\n",
       "      <td>40941.0</td>\n",
       "      <td>0</td>\n",
       "    </tr>\n",
       "    <tr>\n",
       "      <th>4</th>\n",
       "      <td>5</td>\n",
       "      <td>2</td>\n",
       "      <td>1</td>\n",
       "      <td>26.0</td>\n",
       "      <td>50289.0</td>\n",
       "      <td>0</td>\n",
       "    </tr>\n",
       "  </tbody>\n",
       "</table>\n",
       "</div>"
      ],
      "text/plain": [
       "   Number  City  Gender   Age   Income  Illness\n",
       "0       1     2       1  26.0  40367.0        0\n",
       "1       2     2       1  54.0  45084.0        0\n",
       "2       3     2       1  26.0  52483.0        0\n",
       "3       4     2       1  40.0  40941.0        0\n",
       "4       5     2       1  26.0  50289.0        0"
      ]
     },
     "execution_count": 11,
     "metadata": {},
     "output_type": "execute_result"
    }
   ],
   "source": [
    "toy_data.head()"
   ]
  },
  {
   "cell_type": "code",
   "execution_count": 12,
   "metadata": {},
   "outputs": [],
   "source": [
    "# Разделение данных на признаки и целевую переменную\n",
    "X = toy_data.drop(['Illness'], axis=1)  # Предполагаем, что 'Illness_No' является целевой переменной\n",
    "y = toy_data['Illness']\n"
   ]
  },
  {
   "cell_type": "code",
   "execution_count": 13,
   "metadata": {},
   "outputs": [],
   "source": [
    "# Разделение данных на обучающую и тестовую выборки\n",
    "X_train, X_test, y_train, y_test = train_test_split(X, y, test_size=0.2, random_state=42)\n"
   ]
  },
  {
   "cell_type": "code",
   "execution_count": 14,
   "metadata": {},
   "outputs": [],
   "source": [
    "# Создание списка моделей\n",
    "models = {\n",
    "    \"k-NN\": KNeighborsClassifier(n_neighbors=3),\n",
    "    \"Bagging\": BaggingClassifier(n_estimators=10, random_state=42),\n",
    "    \"Random Forest\": RandomForestClassifier(n_estimators=100, random_state=42),\n",
    "    \"AdaBoost\": AdaBoostClassifier(n_estimators=50, random_state=42),\n",
    "    \"Gradient Boosting\": GradientBoostingClassifier(n_estimators=100, random_state=42)\n",
    "}"
   ]
  },
  {
   "cell_type": "code",
   "execution_count": 15,
   "metadata": {},
   "outputs": [
    {
     "name": "stderr",
     "output_type": "stream",
     "text": [
      "c:\\python\\Lib\\site-packages\\sklearn\\ensemble\\_weight_boosting.py:519: FutureWarning: The SAMME.R algorithm (the default) is deprecated and will be removed in 1.6. Use the SAMME algorithm to circumvent this warning.\n",
      "  warnings.warn(\n"
     ]
    }
   ],
   "source": [
    "# Обучение и оценка моделей\n",
    "results = {}\n",
    "\n",
    "for model_name, model in models.items():\n",
    "    model.fit(X_train, y_train)\n",
    "    y_pred = model.predict(X_test)\n",
    "    \n",
    "    # Вычисление метрик\n",
    "    accuracy = accuracy_score(y_test, y_pred)\n",
    "    conf_matrix = confusion_matrix(y_test, y_pred)\n",
    "    class_report = classification_report(y_test, y_pred)\n",
    "    \n",
    "    # Для расчета R^2, MSE и MAE, будем использовать предсказанные вероятности\n",
    "    if hasattr(model, \"predict_proba\"):\n",
    "        y_pred_proba = model.predict_proba(X_test)[:, 1]\n",
    "    else:\n",
    "        y_pred_proba = y_pred  # Если модель не поддерживает predict_proba, используем сами предсказания\n",
    "    \n",
    "    r2 = r2_score(y_test, y_pred_proba)\n",
    "    mse = mean_squared_error(y_test, y_pred_proba)\n",
    "    mae = mean_absolute_error(y_test, y_pred_proba)\n",
    "    \n",
    "    results[model_name] = {\n",
    "        \"accuracy\": accuracy,\n",
    "        \"confusion_matrix\": conf_matrix,\n",
    "        \"classification_report\": class_report,\n",
    "        \"r2\": r2,\n",
    "        \"mse\": mse,\n",
    "        \"mae\": mae\n",
    "    }"
   ]
  },
  {
   "cell_type": "code",
   "execution_count": 17,
   "metadata": {},
   "outputs": [
    {
     "name": "stdout",
     "output_type": "stream",
     "text": [
      "Модель: k-NN\n",
      "Точность: 0.9045666666666666\n",
      "R^2: -0.3527288227538552\n",
      "MSE: 0.0986888888888889\n",
      "MAE: 0.1488\n",
      "\n",
      "\n",
      "Модель: Bagging\n",
      "Точность: 0.9176666666666666\n",
      "R^2: -0.18628164834499894\n",
      "MSE: 0.08654566666666666\n",
      "MAE: 0.15749\n",
      "\n",
      "\n",
      "Модель: Random Forest\n",
      "Точность: 0.9186333333333333\n",
      "R^2: -0.09696590783737591\n",
      "MSE: 0.08002959999999999\n",
      "MAE: 0.15024\n",
      "\n",
      "\n",
      "Модель: AdaBoost\n",
      "Точность: 0.9206666666666666\n",
      "R^2: -2.2879951006895056\n",
      "MSE: 0.23987703795544998\n",
      "MAE: 0.4897198080302325\n",
      "\n",
      "\n",
      "Модель: Gradient Boosting\n",
      "Точность: 0.9207666666666666\n",
      "R^2: -0.0009498809123529295\n",
      "MSE: 0.07302471117574497\n",
      "MAE: 0.1476810437515269\n",
      "\n",
      "\n"
     ]
    }
   ],
   "source": [
    "# Вывод результатов\n",
    "for model_name, metrics in results.items():\n",
    "    print(f\"Модель: {model_name}\")\n",
    "    print(f\"Точность: {metrics['accuracy']}\")\n",
    "    print(f\"R^2: {metrics['r2']}\")\n",
    "    print(f\"MSE: {metrics['mse']}\")\n",
    "    print(f\"MAE: {metrics['mae']}\")\n",
    "    print(\"\\n\")"
   ]
  }
 ],
 "metadata": {
  "kernelspec": {
   "display_name": "Python 3",
   "language": "python",
   "name": "python3"
  },
  "language_info": {
   "codemirror_mode": {
    "name": "ipython",
    "version": 3
   },
   "file_extension": ".py",
   "mimetype": "text/x-python",
   "name": "python",
   "nbconvert_exporter": "python",
   "pygments_lexer": "ipython3",
   "version": "3.11.8"
  }
 },
 "nbformat": 4,
 "nbformat_minor": 2
}
